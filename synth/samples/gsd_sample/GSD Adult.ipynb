{
 "cells": [
  {
   "cell_type": "markdown",
   "metadata": {},
   "source": [
    "## GSD \n"
   ]
  },
  {
   "cell_type": "code",
   "execution_count": 1,
   "metadata": {},
   "outputs": [
    {
     "name": "stdout",
     "output_type": "stream",
     "text": [
      "For GSD support, please install jax: pip install --upgrade  \"jax[cuda11_cudnn82]==0.4.6\" -f https://storage.googleapis.com/jax-releases/jax_cuda_releases.html\n"
     ]
    }
   ],
   "source": [
    "import os\n",
    "import pandas as pd\n",
    "import numpy as np\n",
    "import seaborn as sns\n",
    "import matplotlib.pyplot as plt\n",
    "import subprocess\n",
    "import utils\n",
    "from snsynth import Synthesizer\n",
    "from snsynth.gsd import GSDSynthesizer\n",
    "import time\n",
    "\n",
    "from load_data import load_data\n",
    "from sklearn.model_selection import train_test_split\n",
    "\n"
   ]
  },
  {
   "cell_type": "code",
   "execution_count": null,
   "metadata": {},
   "outputs": [],
   "source": []
  },
  {
   "cell_type": "code",
   "execution_count": 2,
   "metadata": {},
   "outputs": [
    {
     "name": "stdout",
     "output_type": "stream",
     "text": [
      "loading downloaded_datasets/adult.csv\n",
      "Memory consumed by adult:4167808\n",
      "Index(['age', 'workclass', 'fnlwgt', 'education', 'education-num',\n",
      "       'marital-status', 'occupation', 'relationship', 'race', 'sex',\n",
      "       'capital-gain', 'capital-loss', 'hours-per-week', 'native-country',\n",
      "       'earning-class'],\n",
      "      dtype='object')\n",
      "['workclass', 'education', 'marital-status', 'occupation', 'relationship', 'race', 'sex', 'native-country', 'earning-class']\n"
     ]
    }
   ],
   "source": [
    "adult_path = 'adult.csv'\n",
    "datasets = load_data(['adult'])\n",
    "    \n",
    "adult_df = datasets['adult']['data']\n",
    "\n",
    "target =  datasets['adult']['target']\n",
    "categorical_columns =  datasets['adult']['categorical_columns'].split(',')\n",
    "print(adult_df.columns)\n",
    "print(categorical_columns)\n",
    "\n",
    "\n",
    "# Create config file. Note that we know the lower bound of each ordinal feature is 0.\n",
    "# Let's assume the column upper bound is know.\n",
    "ordinal_columns = ['age', 'education-num', 'capital-gain', 'capital-loss', 'hours-per-week', 'fnlwgt']\n",
    "continuous_columns = []\n",
    "config = {}\n",
    "for c in adult_df.columns:\n",
    "    if c in categorical_columns:\n",
    "        config[c] = {'type': 'string'}\n",
    "    else:\n",
    "        config[c] = {'type': 'int', 'lower': 0, 'upper': adult_df[c].max()}\n",
    "\n",
    "\n",
    "# Split into train/test sets for machine learning evaluation.\n",
    "adult_df_train, adult_df_test = train_test_split(adult_df, test_size=0.2)"
   ]
  },
  {
   "cell_type": "code",
   "execution_count": 4,
   "metadata": {},
   "outputs": [],
   "source": [
    "\n",
    "                "
   ]
  },
  {
   "cell_type": "markdown",
   "metadata": {},
   "source": [
    "# Adult"
   ]
  },
  {
   "cell_type": "code",
   "execution_count": null,
   "metadata": {},
   "outputs": [
    {
     "name": "stdout",
     "output_type": "stream",
     "text": [
      "privacy budgets: First moments = 0.001652. Second moments = 0.028905\n",
      "Cond.Marginal= ['age'] . Sigma=0.0087. Top.Level=7. Max.Size=None\n",
      "Cond.Marginal= ['fnlwgt'] . Sigma=0.0118. Top.Level=13. Max.Size=None\n",
      "Cond.Marginal= ['education-num'] . Sigma=0.0073. Top.Level=5. Max.Size=None\n",
      "Cond.Marginal= ['capital-gain'] . Sigma=0.0118. Top.Level=13. Max.Size=None\n",
      "Cond.Marginal= ['capital-loss'] . Sigma=0.0118. Top.Level=13. Max.Size=None\n",
      "Cond.Marginal= ['hours-per-week'] . Sigma=0.0087. Top.Level=7. Max.Size=None\n",
      "\tTotal size=49716\n",
      "       age.tree_height = 5. Thresholds=53\n",
      "    fnlwgt.tree_height = 6. Thresholds=81\n",
      "education-num.tree_height = 4. Thresholds=21\n",
      "capital-gain.tree_height = 3. Thresholds=8\n",
      "capital-loss.tree_height = 2. Thresholds=5\n",
      "hours-per-week.tree_height = 4. Thresholds=30\n",
      "Cond.Marginal= ['age', 'fnlwgt'] . Sigma=0.0080. Top.Level=6. Max.Size=None\n",
      "Cond.Marginal= ['age', 'education-num'] . Sigma=0.0073. Top.Level=5. Max.Size=None\n",
      "Cond.Marginal= ['age', 'capital-gain'] . Sigma=0.0073. Top.Level=5. Max.Size=None\n",
      "Cond.Marginal= ['age', 'capital-loss'] . Sigma=0.0073. Top.Level=5. Max.Size=None\n",
      "Cond.Marginal= ['age', 'hours-per-week'] . Sigma=0.0073. Top.Level=5. Max.Size=None\n",
      "Cond.Marginal= ['age', 'workclass'] . Sigma=0.0073. Top.Level=5. Max.Size=None\n",
      "Cond.Marginal= ['age', 'education'] . Sigma=0.0073. Top.Level=5. Max.Size=None\n",
      "Cond.Marginal= ['age', 'marital-status'] . Sigma=0.0073. Top.Level=5. Max.Size=None\n",
      "Cond.Marginal= ['age', 'occupation'] . Sigma=0.0073. Top.Level=5. Max.Size=None\n",
      "Cond.Marginal= ['age', 'relationship'] . Sigma=0.0073. Top.Level=5. Max.Size=None\n",
      "Cond.Marginal= ['age', 'race'] . Sigma=0.0073. Top.Level=5. Max.Size=None\n",
      "Cond.Marginal= ['age', 'sex'] . Sigma=0.0073. Top.Level=5. Max.Size=None\n",
      "Cond.Marginal= ['age', 'native-country'] . Sigma=0.0073. Top.Level=5. Max.Size=None\n",
      "Cond.Marginal= ['age', 'earning-class'] . Sigma=0.0073. Top.Level=5. Max.Size=None\n",
      "Cond.Marginal= ['fnlwgt', 'education-num'] . Sigma=0.0080. Top.Level=6. Max.Size=None\n",
      "Cond.Marginal= ['fnlwgt', 'capital-gain'] . Sigma=0.0080. Top.Level=6. Max.Size=None\n",
      "Cond.Marginal= ['fnlwgt', 'capital-loss'] . Sigma=0.0080. Top.Level=6. Max.Size=None\n",
      "Cond.Marginal= ['fnlwgt', 'hours-per-week'] . Sigma=0.0080. Top.Level=6. Max.Size=None\n",
      "Cond.Marginal= ['fnlwgt', 'workclass'] . Sigma=0.0080. Top.Level=6. Max.Size=None\n",
      "Cond.Marginal= ['fnlwgt', 'education'] . Sigma=0.0080. Top.Level=6. Max.Size=None\n",
      "Cond.Marginal= ['fnlwgt', 'marital-status'] . Sigma=0.0080. Top.Level=6. Max.Size=None\n",
      "Cond.Marginal= ['fnlwgt', 'occupation'] . Sigma=0.0080. Top.Level=6. Max.Size=None\n",
      "Cond.Marginal= ['fnlwgt', 'relationship'] . Sigma=0.0080. Top.Level=6. Max.Size=None\n"
     ]
    }
   ],
   "source": [
    "# Still need to implement \n",
    "epsilon= 1.0\n",
    "N_prime = 10000\n",
    "\n",
    "synth = GSDSynthesizer(epsilon, 1e-5, tree_height=13, verbose=True)\n",
    "synth.fit(adult_df_train,  meta_data=config,\n",
    "          N_prime=N_prime)\n",
    "    \n",
    "max_error = np.abs(synth.stat_fn(synth.data.to_numpy()) - synth.stat_fn(synth.sync_data.to_numpy())).max()\n",
    "print(f'Statistical error:', max_error)\n",
    "\n",
    "adult_sync_df = synth.sample()\n",
    "\n",
    "os.makedirs('downloaded_datasets', exist_ok=True)\n",
    "adult_sync_df.to_csv(f'downloaded_datasets/adult_sync_{N_prime}_{epsilon:.2f}.csv')"
   ]
  },
  {
   "cell_type": "code",
   "execution_count": null,
   "metadata": {},
   "outputs": [],
   "source": [
    "\n",
    "\n",
    "# adult_sync_df['Type'] = 'Sync'\n",
    "# adult_df_copy = adult_df.sample(n=5000).copy()\n",
    "# adult_df_copy['Type'] = 'Real'\n",
    "\n",
    "# df = pd.concat([adult_sync_df, adult_df_copy])\n",
    "\n",
    "# \"\"\"\n",
    "# Plot subgroups distributions:\n",
    "# \"\"\"\n",
    "# g = sns.FacetGrid(data=df, col='Type',  hue='earning-class', sharey=False)\n",
    "# g.map(sns.histplot, 'capital-gain')\n",
    "# g.add_legend()\n",
    "# plt.show()"
   ]
  },
  {
   "cell_type": "code",
   "execution_count": 8,
   "metadata": {},
   "outputs": [],
   "source": [
    "data_path = 'downloaded_datasets/adult_sync_10.00.csv'\n",
    "\n",
    "adult_sync_df = pd.read_csv(data_path, index_col=0)\n"
   ]
  },
  {
   "cell_type": "code",
   "execution_count": null,
   "metadata": {},
   "outputs": [],
   "source": [
    "\n"
   ]
  },
  {
   "cell_type": "code",
   "execution_count": 9,
   "metadata": {},
   "outputs": [],
   "source": [
    "from sklearn.linear_model import LogisticRegression\n",
    "from sklearn.naive_bayes import ComplementNB\n",
    "from sklearn.linear_model import RidgeClassifier\n",
    "from sklearn.linear_model import RidgeClassifier\n",
    "from sklearn.ensemble import GradientBoostingClassifier\n",
    "\n",
    "import numpy as np\n",
    "\n",
    "from sklearn.compose import ColumnTransformer\n",
    "from sklearn.datasets import fetch_openml\n",
    "from sklearn.feature_selection import SelectPercentile, chi2\n",
    "from sklearn.impute import SimpleImputer\n",
    "from sklearn.linear_model import LogisticRegression\n",
    "from sklearn.model_selection import RandomizedSearchCV, train_test_split\n",
    "from sklearn.pipeline import Pipeline\n",
    "from sklearn.preprocessing import OneHotEncoder, StandardScaler\n",
    "\n",
    "from sklearn.metrics import f1_score\n",
    "\n",
    "categorical_features = categorical_columns.copy()\n",
    "numeric_features = ordinal_columns.copy()\n",
    "label = 'earning-class'\n",
    "categorical_features.remove(label)\n",
    "\n",
    "\n",
    "numeric_transformer = Pipeline(\n",
    "    steps=[(\"imputer\", SimpleImputer(strategy=\"median\")), (\"scaler\", StandardScaler())]\n",
    ")\n",
    "\n",
    "categorical_transformer = Pipeline(\n",
    "    steps=[\n",
    "        (\"encoder\", OneHotEncoder(handle_unknown=\"ignore\")),\n",
    "        (\"selector\", SelectPercentile(chi2, percentile=50)),\n",
    "    ]\n",
    ")\n",
    "preprocessor = ColumnTransformer(\n",
    "    transformers=[\n",
    "        (\"num\", numeric_transformer, numeric_features),\n",
    "        (\"cat\", categorical_transformer, categorical_features),\n",
    "    ]\n",
    ")\n",
    "\n",
    "clf = Pipeline(\n",
    "    steps=[(\"preprocessor\", preprocessor), (\"classifier\", GradientBoostingClassifier())]\n",
    ")"
   ]
  },
  {
   "cell_type": "code",
   "execution_count": 10,
   "metadata": {},
   "outputs": [
    {
     "data": {
      "text/plain": [
       "Index(['age', 'workclass', 'fnlwgt', 'education', 'education-num',\n",
       "       'marital-status', 'occupation', 'relationship', 'race', 'sex',\n",
       "       'capital-gain', 'capital-loss', 'hours-per-week', 'native-country',\n",
       "       'earning-class'],\n",
       "      dtype='object')"
      ]
     },
     "execution_count": 10,
     "metadata": {},
     "output_type": "execute_result"
    }
   ],
   "source": [
    "adult_df_train.columns"
   ]
  },
  {
   "cell_type": "code",
   "execution_count": 21,
   "metadata": {},
   "outputs": [
    {
     "name": "stdout",
     "output_type": "stream",
     "text": [
      "Train on real:\n",
      "Accuracy=0.8715\n",
      "F1-score = 0.8073\n"
     ]
    }
   ],
   "source": [
    "X_real = adult_df_train[categorical_features+numeric_features]\n",
    "y_real = adult_df_train[label]\n",
    "\n",
    "\n",
    "X_test = adult_df_test[categorical_features+numeric_features]\n",
    "y_test = adult_df_test[label]\n",
    "\n",
    "\n",
    "clf.fit(X_real, y_real)\n",
    "\n",
    "print(f'Train on real:')\n",
    "print(f\"Accuracy={clf.score(X_test, y_test):.4f}\")\n",
    "print(f\"F1-score = {f1_score(y_test, clf.predict(X_test), average='macro'):.4f}\")"
   ]
  },
  {
   "cell_type": "code",
   "execution_count": null,
   "metadata": {},
   "outputs": [],
   "source": []
  },
  {
   "cell_type": "code",
   "execution_count": 23,
   "metadata": {},
   "outputs": [
    {
     "name": "stdout",
     "output_type": "stream",
     "text": [
      "Train on real:\n",
      "Accuracy=0.8592\n",
      "F1-score = 0.7886\n"
     ]
    }
   ],
   "source": [
    "X_sync = adult_sync_df[categorical_features+numeric_features]\n",
    "y_sync = adult_sync_df[label]\n",
    "\n",
    "clf_sync = Pipeline(\n",
    "    steps=[(\"preprocessor\", preprocessor), (\"classifier\", GradientBoostingClassifier())]\n",
    ")\n",
    "\n",
    "clf_sync.fit(X_sync, y_sync)\n",
    "\n",
    "print(f'Train on real:')\n",
    "print(f\"Accuracy={clf_sync.score(X_test, y_test):.4f}\")\n",
    "print(f\"F1-score = {f1_score(y_test, clf_sync.predict(X_test), average='macro'):.4f}\")"
   ]
  },
  {
   "cell_type": "code",
   "execution_count": 32,
   "metadata": {},
   "outputs": [],
   "source": [
    "def sub_group(clf, X_test_arg, y_test_arg, group_feature):\n",
    "    group_names = X_test_arg[group_feature].unique()\n",
    "\n",
    "    for g in group_names:\n",
    "        sub_ids = X_test_arg[group_feature] == g\n",
    "        \n",
    "        X_sub = X_test_arg[sub_ids]\n",
    "        y_sub = y_test_arg[sub_ids]\n",
    "        sz = len(X_sub)\n",
    "        print(f\"{group_feature}={g} with size={sz}:\\tF1-score = {f1_score(y_sub, clf.predict(X_sub), average='macro'):.4f}\")\n",
    "        \n",
    "\n",
    "\n"
   ]
  },
  {
   "cell_type": "code",
   "execution_count": 37,
   "metadata": {},
   "outputs": [
    {
     "name": "stdout",
     "output_type": "stream",
     "text": [
      "Real data:\n",
      "race=2 with size=626:\tF1-score = 0.7118\n",
      "race=4 with size=5563:\tF1-score = 0.7729\n",
      "race=1 with size=201:\tF1-score = 0.7072\n",
      "race=0 with size=57:\tF1-score = 0.7808\n",
      "race=3 with size=66:\tF1-score = 0.8167\n",
      "Sync data:\n",
      "race=2 with size=626:\tF1-score = 0.7327\n",
      "race=4 with size=5563:\tF1-score = 0.7910\n",
      "race=1 with size=201:\tF1-score = 0.7545\n",
      "race=0 with size=57:\tF1-score = 0.6984\n",
      "race=3 with size=66:\tF1-score = 0.7521\n"
     ]
    }
   ],
   "source": [
    "protected_group = 'race'\n",
    "\n",
    "print(f'Real data:')\n",
    "sub_group(clf, X_test, y_test, protected_group)\n",
    "print(f'Sync data:')\n",
    "\n",
    "sub_group(clf_sync, X_test, y_test, protected_group)"
   ]
  },
  {
   "cell_type": "code",
   "execution_count": null,
   "metadata": {},
   "outputs": [],
   "source": []
  },
  {
   "cell_type": "markdown",
   "metadata": {},
   "source": [
    "# End"
   ]
  }
 ],
 "metadata": {
  "kernelspec": {
   "display_name": "Python 3 (ipykernel)",
   "language": "python",
   "name": "python3"
  },
  "language_info": {
   "codemirror_mode": {
    "name": "ipython",
    "version": 3
   },
   "file_extension": ".py",
   "mimetype": "text/x-python",
   "name": "python",
   "nbconvert_exporter": "python",
   "pygments_lexer": "ipython3",
   "version": "3.8.17"
  }
 },
 "nbformat": 4,
 "nbformat_minor": 4
}
