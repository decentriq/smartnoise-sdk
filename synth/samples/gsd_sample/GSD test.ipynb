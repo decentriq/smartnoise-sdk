{
 "cells": [
  {
   "cell_type": "markdown",
   "metadata": {},
   "source": [
    "## GSD test\n"
   ]
  },
  {
   "cell_type": "code",
   "execution_count": 1,
   "metadata": {},
   "outputs": [
    {
     "name": "stdout",
     "output_type": "stream",
     "text": [
      "For GSD support, please install jax: pip install --upgrade  \"jax[cuda11_cudnn82]==0.4.6\" -f https://storage.googleapis.com/jax-releases/jax_cuda_releases.html\n"
     ]
    },
    {
     "data": {
      "text/plain": [
       "'\\n\\nTest on the following data types: \\n1) High cardinality\\n2) Real valued.\\n3) Highly correlated.\\n\\n'"
      ]
     },
     "execution_count": 1,
     "metadata": {},
     "output_type": "execute_result"
    }
   ],
   "source": [
    "import os\n",
    "import pandas as pd\n",
    "import numpy as np\n",
    "from sklearn.linear_model import LogisticRegression\n",
    "from sklearn.naive_bayes import ComplementNB\n",
    "from sklearn.linear_model import RidgeClassifier\n",
    "import subprocess\n",
    "import utils\n",
    "from snsynth import Synthesizer\n",
    "from snsynth.gsd import GSDSynthesizer\n",
    "import time\n",
    "\"\"\"\n",
    "\n",
    "Test on the following data types: \n",
    "1) High cardinality\n",
    "2) Real valued.\n",
    "3) Highly correlated.\n",
    "\n",
    "\"\"\""
   ]
  },
  {
   "cell_type": "markdown",
   "metadata": {
    "jp-MarkdownHeadingCollapsed": true
   },
   "source": [
    "# Adult (Categorical only)"
   ]
  },
  {
   "cell_type": "code",
   "execution_count": 2,
   "metadata": {},
   "outputs": [],
   "source": [
    "git_root_dir = subprocess.check_output(\"git rev-parse --show-toplevel\".split(\" \")).decode(\"utf-8\").strip()\n",
    "meta_path = os.path.join(git_root_dir, os.path.join(\"datasets\", \"PUMS_pid.yaml\"))\n",
    "csv_path = os.path.join(git_root_dir, os.path.join(\"datasets\", \"PUMS_pid.csv\"))\n",
    "# csv_path = os.path.join(git_root_dir, os.path.join(\"datasets\", \"PUMS.csv\"))\n",
    "\n",
    "df = pd.read_csv(csv_path, index_col=None).astype(str)\n",
    "df = df.drop([\"income\", \"pid\", \"age\"], axis=1)\n",
    "\n",
    "nf = df.to_numpy().astype(int)"
   ]
  },
  {
   "cell_type": "code",
   "execution_count": 3,
   "metadata": {},
   "outputs": [
    {
     "name": "stderr",
     "output_type": "stream",
     "text": [
      "/Users/giuseppevietri/Code/smartnoise-sdk-gsd/synth/snsynth/gsd/gsd.py:105: UserWarning: Must split privacy budget\n",
      "  warnings.warn(\"Must split privacy budget\")\n"
     ]
    },
    {
     "name": "stdout",
     "output_type": "stream",
     "text": [
      "\n",
      "Cond.Marginal= ['sex'] . Sigma=0.0000. Top.Level=1. Max.Size=None\n",
      "Cond.Marginal= ['educ'] . Sigma=0.0000. Top.Level=1. Max.Size=None\n",
      "Cond.Marginal= ['race'] . Sigma=0.0000. Top.Level=1. Max.Size=None\n",
      "Cond.Marginal= ['married'] . Sigma=0.0000. Top.Level=1. Max.Size=None\n",
      "\tTotal size=26\n",
      "Cond.Marginal= ['sex', 'educ'] . Sigma=0.0000. Top.Level=1. Max.Size=None\n",
      "Cond.Marginal= ['sex', 'race'] . Sigma=0.0000. Top.Level=1. Max.Size=None\n",
      "Cond.Marginal= ['sex', 'married'] . Sigma=0.0000. Top.Level=1. Max.Size=None\n",
      "Cond.Marginal= ['educ', 'race'] . Sigma=0.0000. Top.Level=1. Max.Size=None\n",
      "Cond.Marginal= ['educ', 'married'] . Sigma=0.0000. Top.Level=1. Max.Size=None\n",
      "Cond.Marginal= ['race', 'married'] . Sigma=0.0000. Top.Level=1. Max.Size=None\n",
      "\tTotal size=188\n",
      "Statistics size = 214\n",
      "Gen=0   : fitness=0.582045.\n",
      "Gen=1000: fitness=0.000113838.\n",
      "Gen=2000: fitness=5.10213e-05.\n",
      "Gen=3000: fitness=4.70628e-05.\n",
      "Gen=4000: fitness=4.70628e-05.\n",
      "Gen=5000: fitness=4.70628e-05.\n",
      "Gen=6000: fitness=4.70628e-05.\n",
      "\t\t ### Stop early at 6000 ###\n"
     ]
    }
   ],
   "source": [
    "# Still need to implement \n",
    "synth = GSDSynthesizer(10000.0, 1e-5, verbose=True)\n",
    "synth.fit(df, genetic_operators=['mutate', 'cross'])\n",
    "\n",
    "sync_data = synth.sample()"
   ]
  },
  {
   "cell_type": "code",
   "execution_count": null,
   "metadata": {},
   "outputs": [],
   "source": [
    "synth = GSDSynthesizer(10000.0, 1e-5, verbose=True)\n",
    "synth.fit(df, genetic_operators=['mutate'])\n",
    "\n",
    "sync_data = synth.sample()"
   ]
  },
  {
   "cell_type": "markdown",
   "metadata": {
    "jp-MarkdownHeadingCollapsed": true
   },
   "source": [
    "# High cardinality"
   ]
  },
  {
   "cell_type": "code",
   "execution_count": 4,
   "metadata": {},
   "outputs": [
    {
     "name": "stderr",
     "output_type": "stream",
     "text": [
      "/Users/giuseppevietri/Code/smartnoise-sdk-gsd/synth/snsynth/gsd/gsd.py:105: UserWarning: Must split privacy budget\n",
      "  warnings.warn(\"Must split privacy budget\")\n"
     ]
    },
    {
     "name": "stdout",
     "output_type": "stream",
     "text": [
      "\n",
      "Cond.Marginal= [0] . Sigma=0.0000. Top.Level=1. Max.Size=None\n",
      "\tTotal size=6328\n",
      "Statistics size = 6328\n",
      "Gen=0   : fitness=0.250097.\n",
      "Gen=1000: fitness=0.00227959.\n",
      "Gen=2000: fitness=0.000381281.\n",
      "Gen=3000: fitness=0.000377697.\n",
      "Gen=4000: fitness=0.000377035.\n",
      "Gen=5000: fitness=0.000376593.\n",
      "Gen=6000: fitness=0.000376469.\n",
      "Gen=7000: fitness=0.000376445.\n",
      "Gen=8000: fitness=0.000376434.\n",
      "\t\t ### Stop early at 8000 ###\n",
      "elapsed time = 15.119120121002197\n"
     ]
    }
   ],
   "source": [
    "import time\n",
    "rng = np.random.default_rng(0)\n",
    "\n",
    "d = 1\n",
    "ordinal_columns = 'categorical_1'\n",
    "cat_cardinality = 10000\n",
    "N = 2 * cat_cardinality\n",
    "\n",
    "data_np = rng.integers(0, cat_cardinality, (N, d ))\n",
    "data_np[:cat_cardinality, 0] = 0\n",
    "data_np = data_np.astype(str)\n",
    "data_df = pd.DataFrame(data_np, columns=[ordinal_columns])\n",
    "\n",
    "\n",
    "t0 = time.time()\n",
    "synth = GSDSynthesizer(3000.0, 1e-5, verbose=True)\n",
    "# Since we are passing the data bounds, we do not need to provide privacy budget for preprocessing.\n",
    "synth.fit(data_np, N_prime=1000, genetic_operators=['mutate', 'cross'])\n",
    "print(f'elapsed time = {time.time() - t0}')\n",
    "\n",
    "max_error = np.abs(synth.stat_fn(synth.data.to_numpy()) - synth.stat_fn(synth.sync_data.to_numpy())).max()\n",
    "print(f'Statistical error:', max_error)"
   ]
  },
  {
   "cell_type": "code",
   "execution_count": null,
   "metadata": {},
   "outputs": [],
   "source": [
    "# Run this cell to observe slow converge behavior without the cross genetic operator.\n",
    "t0 = time.time()\n",
    "synth = GSDSynthesizer(3000.0, 1e-5, verbose=True)\n",
    "# Since we are passing the data bounds, we do not need to provide privacy budget for preprocessing.\n",
    "synth.fit(data_df, N_prime=1000, genetic_operators=['mutate'])\n",
    "print(f'elapsed time = {time.time() - t0}')"
   ]
  },
  {
   "cell_type": "markdown",
   "metadata": {
    "jp-MarkdownHeadingCollapsed": true
   },
   "source": [
    "# Highly correlated categorical data."
   ]
  },
  {
   "cell_type": "code",
   "execution_count": 6,
   "metadata": {},
   "outputs": [
    {
     "name": "stderr",
     "output_type": "stream",
     "text": [
      "/Users/giuseppevietri/Code/smartnoise-sdk-gsd/synth/snsynth/gsd/gsd.py:105: UserWarning: Must split privacy budget\n",
      "  warnings.warn(\"Must split privacy budget\")\n"
     ]
    },
    {
     "name": "stdout",
     "output_type": "stream",
     "text": [
      "\n",
      "Cond.Marginal= ['categorical_1'] . Sigma=0.0000. Top.Level=1. Max.Size=None\n",
      "Cond.Marginal= ['categorical_2'] . Sigma=0.0000. Top.Level=1. Max.Size=None\n",
      "\tTotal size=12\n",
      "Cond.Marginal= ['categorical_1', 'categorical_2'] . Sigma=0.0000. Top.Level=1. Max.Size=None\n",
      "\tTotal size=36\n",
      "Statistics size = 48\n",
      "Gen=0   : fitness=2.27855.\n",
      "Gen=200 : fitness=0.0615494.\n",
      "Gen=400 : fitness=0.000149913.\n",
      "Gen=600 : fitness=0.000149913.\n",
      "Gen=800 : fitness=2.23756e-10.\n",
      "Gen=1000: fitness=2.23756e-10.\n",
      "Gen=1200: fitness=2.23756e-10.\n",
      "\t\t ### Stop early at 1200 ###\n",
      "elapsed time = 8.637951850891113\n",
      "Statistical error: 0.0\n"
     ]
    }
   ],
   "source": [
    "rng = np.random.default_rng(0)\n",
    "\n",
    "d = 1\n",
    "columns = ['categorical_1', 'categorical_2']\n",
    "cat_cardinality = 11\n",
    "N = 200\n",
    "values = rng.integers(1, cat_cardinality, (N, d ))\n",
    "values[:190] = 0\n",
    "data_np = np.column_stack((values, values)).astype(str)\n",
    "correlated_cat_df = pd.DataFrame(data_np, columns=columns)\n",
    "\n",
    "t0 = time.time()\n",
    "synth = GSDSynthesizer(10000000.0, 1e-5, verbose=True)\n",
    "# Since we are passing the data bounds, we do not need to provide privacy budget for preprocessing.\n",
    "synth.fit(correlated_cat_df, N_prime=200, genetic_operators=['mutate', 'cross'])\n",
    "print(f'elapsed time = {time.time() - t0}')\n",
    "\n",
    "max_error = np.abs(synth.stat_fn(synth.data.to_numpy()) - synth.stat_fn(synth.sync_data.to_numpy())).max()\n",
    "print(f'Statistical error:', max_error)"
   ]
  },
  {
   "cell_type": "code",
   "execution_count": null,
   "metadata": {},
   "outputs": [],
   "source": [
    "## Run this cell to check slow convergence without the cross operator\n",
    "t0 = time.time()\n",
    "synth = GSDSynthesizer(10000000.0, 1e-5, verbose=True)\n",
    "# Since we are passing the data bounds, we do not need to provide privacy budget for preprocessing.\n",
    "synth.fit(correlated_cat_df, N_prime=200, genetic_operators=['mutate'])\n",
    "print(f'elapsed time = {time.time() - t0}')"
   ]
  },
  {
   "cell_type": "code",
   "execution_count": 9,
   "metadata": {},
   "outputs": [
    {
     "name": "stderr",
     "output_type": "stream",
     "text": [
      "/Users/giuseppevietri/Code/smartnoise-sdk-gsd/synth/snsynth/gsd/gsd.py:105: UserWarning: Must split privacy budget\n",
      "  warnings.warn(\"Must split privacy budget\")\n"
     ]
    },
    {
     "name": "stdout",
     "output_type": "stream",
     "text": [
      "\n",
      "Cond.Marginal= ['categorical_1'] . Sigma=0.0000. Top.Level=1. Max.Size=None\n",
      "Cond.Marginal= ['categorical_2'] . Sigma=0.0000. Top.Level=1. Max.Size=None\n",
      "Cond.Marginal= ['categorical_3'] . Sigma=0.0000. Top.Level=1. Max.Size=None\n",
      "\tTotal size=18\n",
      "Cond.Marginal= ['categorical_1', 'categorical_2'] . Sigma=0.0000. Top.Level=1. Max.Size=None\n",
      "Cond.Marginal= ['categorical_1', 'categorical_3'] . Sigma=0.0000. Top.Level=1. Max.Size=None\n",
      "Cond.Marginal= ['categorical_2', 'categorical_3'] . Sigma=0.0000. Top.Level=1. Max.Size=None\n",
      "\tTotal size=108\n",
      "Statistics size = 126\n",
      "Gen=0   : fitness=4.75352.\n",
      "Gen=200 : fitness=1.00344.\n",
      "Gen=400 : fitness=0.00179963.\n",
      "Gen=600 : fitness=0.000149995.\n",
      "Gen=800 : fitness=1.48337e-09.\n",
      "Gen=1000: fitness=1.48337e-09.\n",
      "Gen=1200: fitness=1.48337e-09.\n",
      "\t\t ### Stop early at 1200 ###\n",
      "elapsed time = 9.834194898605347\n",
      "Statistical error: 0.0\n"
     ]
    }
   ],
   "source": [
    "\"\"\"\n",
    "3-d correlated categorical data.\n",
    "\"\"\"\n",
    "\n",
    "rng = np.random.default_rng(0)\n",
    "\n",
    "d = 1\n",
    "columns = ['categorical_1', 'categorical_2', 'categorical_3']\n",
    "cat_cardinality = 11\n",
    "N = 200\n",
    "values = rng.integers(1, cat_cardinality, (N, d ))\n",
    "values[:190] = 0\n",
    "data_np = np.column_stack((values, values, values)).astype(str)\n",
    "correlated_cat_df = pd.DataFrame(data_np, columns=columns)\n",
    "\n",
    "t0 = time.time()\n",
    "synth = GSDSynthesizer(10000000.0, 1e-5, verbose=True)\n",
    "# Since we are passing the data bounds, we do not need to provide privacy budget for preprocessing.\n",
    "synth.fit(correlated_cat_df, N_prime=200, genetic_operators=['mutate', 'cross'])\n",
    "print(f'elapsed time = {time.time() - t0}')\n",
    "\n",
    "max_error = np.abs(synth.stat_fn(synth.data.to_numpy()) - synth.stat_fn(synth.sync_data.to_numpy())).max()\n",
    "print(f'Statistical error:', max_error)"
   ]
  },
  {
   "cell_type": "code",
   "execution_count": null,
   "metadata": {},
   "outputs": [],
   "source": []
  },
  {
   "cell_type": "markdown",
   "metadata": {},
   "source": [
    "# Real-valued data"
   ]
  },
  {
   "cell_type": "code",
   "execution_count": 3,
   "metadata": {},
   "outputs": [
    {
     "data": {
      "image/png": "[encoded data removed]",
      "text/plain": [
       "<Figure size 640x480 with 1 Axes>"
      ]
     },
     "metadata": {},
     "output_type": "display_data"
    },
    {
     "name": "stdout",
     "output_type": "stream",
     "text": [
      "(200, 2)\n",
      "\n",
      "Cond.Marginal= ['c1'] . Sigma=0.0005. Top.Level=8. Max.Size=None\n"
     ]
    },
    {
     "name": "stderr",
     "output_type": "stream",
     "text": [
      "/Users/giuseppevietri/Code/smartnoise-sdk-gsd/synth/snsynth/gsd/gsd.py:105: UserWarning: Must split privacy budget\n",
      "  warnings.warn(\"Must split privacy budget\")\n"
     ]
    },
    {
     "name": "stdout",
     "output_type": "stream",
     "text": [
      "Cond.Marginal= ['c2'] . Sigma=0.0005. Top.Level=8. Max.Size=None\n",
      "\tTotal size=1020\n",
      "Cond.Marginal= ['c1', 'c2'] . Sigma=0.0003. Top.Level=5. Max.Size=None\n",
      "\tTotal size=1364\n",
      "Statistics size = 2384\n",
      "Gen=0   : fitness=2.52814.\n",
      "Gen=200 : fitness=0.390829.\n",
      "Gen=400 : fitness=0.0337713.\n",
      "Gen=600 : fitness=0.0107826.\n",
      "Gen=800 : fitness=0.00653397.\n",
      "Gen=1000: fitness=0.00507107.\n",
      "Gen=1200: fitness=0.00373638.\n",
      "Gen=1400: fitness=0.00331282.\n",
      "Gen=1600: fitness=0.00308326.\n",
      "Gen=1800: fitness=0.00235529.\n",
      "Gen=2000: fitness=0.00212303.\n",
      "Gen=2200: fitness=0.00189923.\n",
      "Gen=2400: fitness=0.00189923.\n",
      "\t\t ### Stop early at 2400 ###\n",
      "Statistical error: 0.0050000000000000044\n"
     ]
    },
    {
     "data": {
      "image/png": "[encoded data removed]",
      "text/plain": [
       "<Figure size 640x480 with 1 Axes>"
      ]
     },
     "metadata": {},
     "output_type": "display_data"
    }
   ],
   "source": [
    "import matplotlib.pyplot as plt\n",
    "rng = np.random.default_rng(0)\n",
    "\n",
    "mean = [0.5, 0.5]\n",
    "cov = [[.01, 0.0099], \n",
    "       [0.0099, .01]]  # diagonal covariance\n",
    "\n",
    "N = 200\n",
    "d = 5\n",
    "# data_cont = rng.uniform((N, d))\n",
    "\n",
    "x, y = np.random.multivariate_normal(mean, cov, N).T\n",
    "values_cont = np.column_stack((x, y))\n",
    "\n",
    "plt.title('Real data')\n",
    "plt.scatter(x, y)\n",
    "plt.xlim([0,1])\n",
    "plt.ylim([0,1])\n",
    "plt.show()\n",
    "\n",
    "print(values_cont.shape)\n",
    "cont_cols = ['c1', 'c2']\n",
    "data_cont_df = pd.DataFrame(values_cont, columns=cont_cols)\n",
    "data_bounds = {'c1': {'lower': 0, 'upper': 1}, 'c2': {'lower': 0, 'upper': 1}}\n",
    "\n",
    "synth = GSDSynthesizer(3000.0, 1e-5, tree_height=8, verbose=True)\n",
    "# Since we are passing the data bounds, we do not need to provide privacy budget for preprocessing.\n",
    "synth.fit(data_cont_df, data_bounds=data_bounds, \n",
    "          genetic_operators=['mutate', 'continuous', 'swap'])\n",
    "\n",
    "max_error = np.abs(synth.stat_fn(synth.data.to_numpy()) - synth.stat_fn(synth.sync_data.to_numpy())).max()\n",
    "print(f'Statistical error:', max_error)\n",
    "\n",
    "sync_df = synth.sample()\n",
    "plt.title('Sync data')\n",
    "plt.scatter(sync_df['c1'].values, sync_df['c2'].values)\n",
    "plt.xlim([0,1])\n",
    "plt.ylim([0,1])\n",
    "plt.show()"
   ]
  },
  {
   "cell_type": "markdown",
   "metadata": {},
   "source": [
    "# Real-valued low variance"
   ]
  },
  {
   "cell_type": "code",
   "execution_count": 5,
   "metadata": {},
   "outputs": [
    {
     "data": {
      "image/png": "[encoded data removed]",
      "text/plain": [
       "<Figure size 640x480 with 1 Axes>"
      ]
     },
     "metadata": {},
     "output_type": "display_data"
    },
    {
     "data": {
      "image/png": "[encoded data removed]",
      "text/plain": [
       "<Figure size 640x480 with 1 Axes>"
      ]
     },
     "metadata": {},
     "output_type": "display_data"
    },
    {
     "name": "stderr",
     "output_type": "stream",
     "text": [
      "/Users/giuseppevietri/Code/smartnoise-sdk-gsd/synth/snsynth/gsd/gsd.py:105: UserWarning: Must split privacy budget\n",
      "  warnings.warn(\"Must split privacy budget\")\n"
     ]
    },
    {
     "name": "stdout",
     "output_type": "stream",
     "text": [
      "\n",
      "Cond.Marginal= ['x'] . Sigma=0.0008. Top.Level=12. Max.Size=None\n",
      "Cond.Marginal= ['y'] . Sigma=0.0008. Top.Level=12. Max.Size=None\n",
      "Cond.Marginal= ['z'] . Sigma=0.0008. Top.Level=12. Max.Size=None\n",
      "\tTotal size=24570\n",
      "Cond.Marginal= ['x', 'y'] . Sigma=0.0005. Top.Level=5. Max.Size=None\n",
      "Cond.Marginal= ['x', 'z'] . Sigma=0.0005. Top.Level=5. Max.Size=None\n",
      "Cond.Marginal= ['y', 'z'] . Sigma=0.0005. Top.Level=5. Max.Size=None\n",
      "\tTotal size=4092\n",
      "Statistics size = 28662\n",
      "Gen=0   : fitness=19.3456.\n",
      "Gen=200 : fitness=13.1972.\n",
      "Gen=400 : fitness=8.54034.\n",
      "Gen=600 : fitness=5.26597.\n",
      "Gen=800 : fitness=3.2054.\n",
      "Gen=1000: fitness=1.99527.\n",
      "Gen=1200: fitness=1.13676.\n",
      "Gen=1400: fitness=0.60575.\n",
      "Gen=1600: fitness=0.269412.\n",
      "Gen=1800: fitness=0.0970568.\n",
      "Gen=2000: fitness=0.0355832.\n",
      "Gen=2200: fitness=0.025257.\n",
      "Gen=2400: fitness=0.0244788.\n",
      "Gen=2600: fitness=0.0233713.\n",
      "Gen=2800: fitness=0.0225871.\n",
      "Gen=3000: fitness=0.0221786.\n",
      "Gen=3200: fitness=0.0214574.\n",
      "Gen=3400: fitness=0.0205548.\n",
      "Gen=3600: fitness=0.0199049.\n",
      "Gen=3800: fitness=0.0196501.\n",
      "Gen=4000: fitness=0.0194548.\n",
      "Gen=4200: fitness=0.0188694.\n",
      "Gen=4400: fitness=0.0187048.\n",
      "Gen=4600: fitness=0.0182147.\n",
      "Gen=4800: fitness=0.0181498.\n",
      "Gen=5000: fitness=0.0179087.\n",
      "Gen=5200: fitness=0.0178004.\n",
      "Gen=5400: fitness=0.0177396.\n",
      "Gen=5600: fitness=0.0175247.\n",
      "Gen=5800: fitness=0.0173078.\n",
      "Gen=6000: fitness=0.017206.\n",
      "Gen=6200: fitness=0.017042.\n",
      "Gen=6400: fitness=0.0167962.\n",
      "Gen=6600: fitness=0.0163393.\n",
      "Gen=6800: fitness=0.0162376.\n",
      "Gen=7000: fitness=0.0161964.\n",
      "Gen=7200: fitness=0.0159229.\n",
      "Gen=7400: fitness=0.0157372.\n",
      "Gen=7600: fitness=0.0155398.\n",
      "Gen=7800: fitness=0.0155016.\n",
      "Gen=8000: fitness=0.0154018.\n",
      "Gen=8200: fitness=0.0154018.\n",
      "Gen=8400: fitness=0.0151505.\n",
      "Gen=8600: fitness=0.0151505.\n",
      "Gen=8800: fitness=0.0150465.\n",
      "Gen=9000: fitness=0.0149635.\n",
      "Gen=9200: fitness=0.0147206.\n",
      "Gen=9400: fitness=0.0146072.\n",
      "Gen=9600: fitness=0.0146072.\n",
      "\t\t ### Stop early at 9600 ###\n",
      "Statistical error: 0.005000000000000001\n"
     ]
    }
   ],
   "source": [
    "# Real-valued data\n",
    "\"\"\"\n",
    "In some situations the input data in concentrated in a small regions. In these case we must increase \n",
    "the granularity of the queries. \n",
    "\"\"\"\n",
    "\n",
    "\n",
    "import matplotlib.pyplot as plt\n",
    "rng = np.random.default_rng(0)\n",
    "\n",
    "mean = [0.5, 0.5]\n",
    "cov = [[.001, 0.0009], \n",
    "       [0.0009, .001]]  # diagonal covariance\n",
    "\n",
    "N = 200\n",
    "d = 5\n",
    "# data_cont = rng.uniform((N, d))\n",
    "\n",
    "x, y = np.random.multivariate_normal(mean, cov, N).T\n",
    "z = 0.1 * np.ones((N, 1))\n",
    "values_cont = np.column_stack((x, y, z))\n",
    "cont_cols = ['x', 'y', 'z']\n",
    "data_cont_df = pd.DataFrame(values_cont, columns=cont_cols)\n",
    "data_bounds = {'x': {'lower': 0, 'upper': 1}, 'y': {'lower': 0, 'upper': 1}, 'z': {'lower': 0, 'upper': 1} }\n",
    "\n",
    "plt.title('Real: (x,y) column')\n",
    "plt.scatter(x, y)\n",
    "plt.xlim([0,1])\n",
    "plt.ylim([0,1])\n",
    "plt.show()\n",
    "\n",
    "plt.title('Real: z column')\n",
    "plt.hist(z, range=(0,1), bins=100)\n",
    "plt.show()\n",
    "\n",
    "\n",
    "# Run GSD\n",
    "\n",
    "\n",
    "synth = GSDSynthesizer(3000.0, 1e-5, tree_height=12, verbose=True)\n",
    "# Since we are passing the data bounds, we do not need to provide privacy budget for preprocessing.\n",
    "synth.fit(data_cont_df, data_bounds=data_bounds, \n",
    "          genetic_operators=['mutate', 'continuous', 'swap'])\n",
    "max_error = np.abs(synth.stat_fn(synth.data.to_numpy()) - synth.stat_fn(synth.sync_data.to_numpy())).max()\n",
    "print(f'Statistical error:', max_error)\n",
    "\n",
    "sync_df = synth.sample()\n",
    "\n",
    "x_sync = sync_df['x']\n",
    "y_sync = sync_df['y']\n",
    "z_sync = sync_df['z']\n"
   ]
  },
  {
   "cell_type": "code",
   "execution_count": null,
   "metadata": {},
   "outputs": [],
   "source": [
    "\n",
    "\n",
    "\n"
   ]
  },
  {
   "cell_type": "code",
   "execution_count": null,
   "metadata": {},
   "outputs": [],
   "source": []
  },
  {
   "cell_type": "markdown",
   "metadata": {},
   "source": [
    "# End"
   ]
  }
 ],
 "metadata": {
  "kernelspec": {
   "display_name": "Python 3 (ipykernel)",
   "language": "python",
   "name": "python3"
  },
  "language_info": {
   "codemirror_mode": {
    "name": "ipython",
    "version": 3
   },
   "file_extension": ".py",
   "mimetype": "text/x-python",
   "name": "python",
   "nbconvert_exporter": "python",
   "pygments_lexer": "ipython3",
   "version": "3.8.17"
  }
 },
 "nbformat": 4,
 "nbformat_minor": 4
}
